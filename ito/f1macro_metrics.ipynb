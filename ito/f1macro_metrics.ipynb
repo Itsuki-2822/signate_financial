{
 "cells": [
  {
   "cell_type": "code",
   "execution_count": 1,
   "id": "7b2e1720-c87d-4131-9c20-20177f4d50fa",
   "metadata": {},
   "outputs": [],
   "source": [
    "def f1_macro(y_pred, dtrain):\n",
    "    y_true = dtrain.get_label()\n",
    "    if len(y_pred.shape) > 1 and y_pred.shape[1] > 1:\n",
    "        y_pred_labels = np.argmax(y_pred, axis=1)\n",
    "    else:\n",
    "        y_pred_labels = np.round(y_pred)  # 二値分類の場合\n",
    "    mean_f1 = f1_score(y_val, y_pred_labels, average='macro')\n",
    "    return 'weighted_f1_macro', mean_f1, True"
   ]
  }
 ],
 "metadata": {
  "kernelspec": {
   "display_name": "Python (Local)",
   "language": "python",
   "name": "local-base"
  },
  "language_info": {
   "codemirror_mode": {
    "name": "ipython",
    "version": 3
   },
   "file_extension": ".py",
   "mimetype": "text/x-python",
   "name": "python",
   "nbconvert_exporter": "python",
   "pygments_lexer": "ipython3",
   "version": "3.10.12"
  }
 },
 "nbformat": 4,
 "nbformat_minor": 5
}
