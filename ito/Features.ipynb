{
 "cells": [
  {
   "cell_type": "code",
   "execution_count": 2,
   "id": "2fb05ae5-a189-4d55-8d84-8338488e9fee",
   "metadata": {},
   "outputs": [
    {
     "name": "stdout",
     "output_type": "stream",
     "text": [
      "Collecting polars\n",
      "  Obtaining dependency information for polars from https://files.pythonhosted.org/packages/f6/c7/412912cc735bec03de751e506c3380ae393032f2e786e2a93d160acbf1dd/polars-0.20.6-cp38-abi3-manylinux_2_17_x86_64.manylinux2014_x86_64.whl.metadata\n",
      "  Using cached polars-0.20.6-cp38-abi3-manylinux_2_17_x86_64.manylinux2014_x86_64.whl.metadata (15 kB)\n",
      "Using cached polars-0.20.6-cp38-abi3-manylinux_2_17_x86_64.manylinux2014_x86_64.whl (26.8 MB)\n",
      "Installing collected packages: polars\n",
      "Successfully installed polars-0.20.6\n"
     ]
    }
   ],
   "source": [
    "!pip install polars"
   ]
  },
  {
   "cell_type": "code",
   "execution_count": 3,
   "id": "1cf6aaa8-8892-4192-ac77-db27f780c6fa",
   "metadata": {},
   "outputs": [],
   "source": [
    "import polars as pl\n",
    "\n",
    "def feature_engineering(df):\n",
    "    code_dict = {32: 31, 33: 31, 45: 44, 49: 48}\n",
    "    revline_dict = {'0': None, 'T': None}\n",
    "    lowdoc_dict = {'C': None, '0': None, 'S': None, 'A': None}\n",
    "    \n",
    "    df = df.with_columns([\n",
    "    pl.col('DisbursementDate').str.strptime(pl.Date, '%d-%b-%y').alias('DisbursementDate'),\n",
    "    pl.col('DisbursementDate').str.strptime(pl.Date, '%d-%b-%y').dt.year().alias('DisbursementYear'),\n",
    "    pl.col('DisbursementDate').str.strptime(pl.Date, '%d-%b-%y').dt.month().alias('DisbursementMonth'),\n",
    "    ])\n",
    "\n",
    "    df = df.with_columns([\n",
    "        pl.col(\"Sector\").replace(code_dict),\n",
    "        pl.col(\"RevLineCr\").replace(revline_dict),\n",
    "        pl.col(\"LowDoc\").replace(lowdoc_dict),\n",
    "        *[\n",
    "        pl.col(col).str.replace_all('[$,]', '').str.strip().cast(pl.Float64).alias(col)\n",
    "        for col in [\"DisbursementGross\", \"GrAppv\", \"SBA_Appv\"]\n",
    "        ],\n",
    "        pl.col(\"ApprovalFY\").cast(pl.Int64) - pl.col(\"DisbursementYear\").cast(pl.Int64).alias(\"FY_Diff\"),\n",
    "        (pl.col(\"State\") == pl.col(\"BankState\")).cast(pl.UInt8).alias(\"State_is_BankState\"),\n",
    "        \n",
    "        sum([pl.col(col).is_null().cast(pl.Int32) for col in df.columns]).alias(\"NullCount\")])\n",
    "    \n",
    "    df = df.with_columns([\n",
    "        (pl.col(\"GrAppv\") / pl.when(pl.col(\"Term\") == 0).then(1).otherwise(pl.col(\"Term\"))).alias(\"MonthlyRepayment\"),\n",
    "        (pl.col('DisbursementGross') / (1 + pl.col('NoEmp'))).alias('Gross/Emp'),\n",
    "        (pl.col('DisbursementGross') / pl.col('Term')).alias('Gross/Term'),\n",
    "        ((pl.col('DisbursementGross') / (1 + pl.col('NoEmp'))) / pl.col('Term')).alias('Gross/Emp/Term'),\n",
    "        (pl.col('DisbursementGross') / (1 + pl.col('NoEmp') + pl.col('CreateJob'))).alias('Gross/(Emp&CreateJob)'),\n",
    "        ((pl.col('DisbursementGross') / (1 + pl.col('NoEmp') + pl.col('CreateJob'))) / pl.col('Term')).alias('Gross/(Emp&CreateJob)/Term'),\n",
    "        (pl.col('DisbursementGross') / (1 + pl.col('RetainedJob') + pl.col('CreateJob'))).alias('Gross/(RetainedJob&CreateJob)'),\n",
    "        ((pl.col('DisbursementGross') / (1 + pl.col('RetainedJob') + pl.col('CreateJob'))) / pl.col('Term')).alias('Gross/(RetainedJob&CreateJob)/Term'),\n",
    "        (pl.col('DisbursementGross') / pl.col('GrAppv')).alias('Gross/GrAppv'),\n",
    "        (pl.col('DisbursementGross') / pl.col('SBA_Appv')).alias('Gross/SBA_Appv'),\n",
    "        ((pl.col('GrAppv') / pl.col('SBA_Appv')) - 1).alias('GrAppv/SBA_Appv')\n",
    "    ]).drop('DisbursementDate')\n",
    "    \n",
    "    return df"
   ]
  }
 ],
 "metadata": {
  "kernelspec": {
   "display_name": "Python (Local)",
   "language": "python",
   "name": "local-base"
  },
  "language_info": {
   "codemirror_mode": {
    "name": "ipython",
    "version": 3
   },
   "file_extension": ".py",
   "mimetype": "text/x-python",
   "name": "python",
   "nbconvert_exporter": "python",
   "pygments_lexer": "ipython3",
   "version": "3.10.12"
  }
 },
 "nbformat": 4,
 "nbformat_minor": 5
}
